{
 "cells": [
  {
   "cell_type": "code",
   "execution_count": 2,
   "metadata": {},
   "outputs": [
    {
     "name": "stdout",
     "output_type": "stream",
     "text": [
      "Populating the interactive namespace from numpy and matplotlib\n"
     ]
    }
   ],
   "source": [
    "%pylab inline"
   ]
  },
  {
   "cell_type": "code",
   "execution_count": 3,
   "metadata": {},
   "outputs": [],
   "source": [
    "import numpy as np\n",
    "from ipywidgets import interact\n",
    "import ipywidgets as widgets\n",
    "from matplotlib.patches import Wedge"
   ]
  },
  {
   "cell_type": "code",
   "execution_count": 4,
   "metadata": {},
   "outputs": [],
   "source": [
    "%run ../python_scripts/tools.py\n",
    "font_setup(size=26)"
   ]
  },
  {
   "cell_type": "code",
   "execution_count": 5,
   "metadata": {},
   "outputs": [],
   "source": [
    "def tov(cn):\n",
    "    return np.array([cn.real,cn.imag])\n",
    "def atob(a,b):\n",
    "    return np.array([i for i in zip(tov(a),tov(b))])\n",
    "def mid(a,b):\n",
    "    return 0.5*(a+b)\n",
    "def perp(a,b,s=1):\n",
    "    return mid(a,b) + s*(mid(a,b)-a)*1j\n",
    "def cmod(a):\n",
    "    return (a*a.conj()).real**0.5"
   ]
  },
  {
   "cell_type": "code",
   "execution_count": 6,
   "metadata": {},
   "outputs": [],
   "source": [
    "def line(p1, p2):\n",
    "    A = (p1[1] - p2[1])\n",
    "    B = (p2[0] - p1[0])\n",
    "    C = (p1[0]*p2[1] - p2[0]*p1[1])\n",
    "    return A, B, -C\n",
    "\n",
    "def intersection(L1, L2):\n",
    "    D  = L1[0] * L2[1] - L1[1] * L2[0]\n",
    "    Dx = L1[2] * L2[1] - L1[1] * L2[2]\n",
    "    Dy = L1[0] * L2[2] - L1[2] * L2[0]\n",
    "    if D != 0:\n",
    "        x = Dx / D\n",
    "        y = Dy / D\n",
    "        return x+y*1j\n",
    "    \n",
    "def inter_c(points):\n",
    "    return intersection(\n",
    "        line(tov(points[0]),tov(points[1])),\n",
    "        line(tov(points[2]),tov(points[3]))\n",
    "    )    "
   ]
  },
  {
   "cell_type": "code",
   "execution_count": 7,
   "metadata": {},
   "outputs": [
    {
     "data": {
      "application/vnd.jupyter.widget-view+json": {
       "model_id": "8dd1777cc51c4e33be2292c86dbcc63e",
       "version_major": 2,
       "version_minor": 0
      },
      "text/plain": [
       "interactive(children=(FloatSlider(value=2.0, description='alpha', max=6.283185307179586), FloatSlider(value=2.…"
      ]
     },
     "metadata": {},
     "output_type": "display_data"
    }
   ],
   "source": [
    "@interact\n",
    "def comp(\n",
    "    alpha = widgets.FloatSlider(min=0,max=2*np.pi,value = 2),\n",
    "    beta = widgets.FloatSlider(min=0,max=2*np.pi,value = 2.8),\n",
    "    gamma = widgets.FloatSlider(min=0,max=4*np.pi,value = 2,step=0.1),\n",
    "    delta = widgets.FloatSlider(min=0,max=4*np.pi,value = 2.8,step=0.1)\n",
    "):        \n",
    "    circ = np.exp(1j*np.linspace(0,2*np.pi,100))\n",
    "    plot(circ.real,circ.imag,'--',c='#808791')    \n",
    "    \n",
    "    c0 = 2+2j\n",
    "\n",
    "    a = np.exp(1j*alpha) + c0\n",
    "    b = np.exp(1j*beta) + c0\n",
    "    z = 1.7*np.exp(1j*gamma) + c0\n",
    "\n",
    "    m1 = mid(a,b)\n",
    "    p1 = perp(a,b,-1)\n",
    "    m2 = mid(b,z)\n",
    "    p2 = perp(b,z,-1)\n",
    "    #plot(*atob(m1,p1),'#808791')\n",
    "    #plot(*atob(m2,p2),'#808791')\n",
    "    plot(*tov(c0),'kx')\n",
    "    \n",
    "    c = inter_c([m1,p1,m2,p2])\n",
    "    if cmod(c-c0)<2:\n",
    "        plot(*tov(c),'*',c='C2')\n",
    "        text(*tov(c),\"O'\")\n",
    "    \n",
    "    ncirc = circ*cmod(c-a) + c\n",
    "    plot(ncirc.real,ncirc.imag,'-.')    \n",
    "\n",
    "    zz = c + np.exp(1j*delta)*cmod(c-a)\n",
    "    points = [0,a,b,z,zz]\n",
    "    txt = ['O','a','b','z','z\\'']\n",
    "    tloc = np.array([-.05-0.05j,.05,-.07,.05,.05])*3\n",
    "    clrs = ['k','k','k','k','C4']\n",
    "    \n",
    "    plot(*atob(a,z),c='#606a78')\n",
    "    plot(*atob(b,z),'--',c='#606a78')\n",
    "    plot(*atob(a,zz),c='C4')\n",
    "    plot(*atob(b,zz),'--',c='C4')\n",
    "    \n",
    "    if cmod(zz-c0)>2:\n",
    "        points = points[:-1]\n",
    "        txt = txt[:-1]\n",
    "        tloc = tloc[:-1]\n",
    "        clrs = clrs[:-1]\n",
    "    \n",
    "    [plot(*tov(i),'o',c=c) for i,c in zip(points,clrs)]    \n",
    "    [text(*tov(i+l),t,ha='center',va='center') for i,t,l in zip(points,txt,tloc)]\n",
    "    \n",
    "    v = ((z-a)/(z-b))\n",
    "    vv = ((zz-a)/(zz-b))\n",
    "    t = v.imag/v.real\n",
    "    tt = vv.imag/vv.real\n",
    "\n",
    "    jb = (z-b)/cmod(z-b)\n",
    "    ja = (z-a)/cmod(z-a)\n",
    "    kb = (zz-b)/cmod(zz-b)\n",
    "    ka = (zz-a)/cmod(zz-a)\n",
    "    plot(*atob(0,ja),'k')\n",
    "    plot(*atob(0,jb),'k--')\n",
    "    plot(*atob(0,ka),c='#a61dcc')\n",
    "    plot(*atob(0,kb),'--',c='#a61dcc')\n",
    "    #text(*tov(zz-b+.1+0.1j)/cmod(zz-b),\"z'-b\")\n",
    "    \n",
    "    ww = Wedge((0,0), 1, np.angle(kb,True),np.angle(ka,True),color='#a61dcc',alpha=0.5)\n",
    "    w = Wedge((0,0), 1, np.angle(jb,True),np.angle(ja,True),color='C1',alpha=0.5)\n",
    "    w0 = Wedge((0,0), 1,0, -np.angle(kb,True)+np.angle(ka,True),color='C2',alpha=0.3)\n",
    "    \n",
    "    ax = gca()\n",
    "    ax.add_patch(w)\n",
    "    ax.add_patch(ww)\n",
    "    ax.add_patch(w0)\n",
    "    \n",
    "    axvline(0,c='#606a78')\n",
    "    axhline(0,c='#606a78')\n",
    "\n",
    "    gca().set_aspect(1)\n",
    "    gcf().set_size_inches([10,10])\n",
    "    axis('off')\n",
    "    xlim(-1.2,4)\n",
    "    ylim(-1.2,4)"
   ]
  },
  {
   "cell_type": "code",
   "execution_count": null,
   "metadata": {},
   "outputs": [],
   "source": [
    "\n",
    "\n",
    "\n",
    "\n",
    "\n",
    "\n",
    "\n",
    "\n",
    "\n",
    "\n",
    "\n",
    "\n",
    "\n",
    "\n",
    "\n",
    "\n",
    "\n",
    "\n",
    "\n",
    "\n",
    "\n",
    "\n",
    "\n",
    "\n",
    "\n"
   ]
  },
  {
   "cell_type": "code",
   "execution_count": 8,
   "metadata": {},
   "outputs": [
    {
     "data": {
      "image/png": "[encoded data removed]",
      "text/plain": [
       "<Figure size 432x288 with 1 Axes>"
      ]
     },
     "metadata": {
      "needs_background": "light"
     },
     "output_type": "display_data"
    }
   ],
   "source": [
    "t = np.linspace(-np.pi,np.pi,100)\n",
    "plot(t,np.tan(t)/50)\n",
    "plot(t,np.sin(t))\n",
    "_ = xticks(np.array([-1,-.5,0,0.5,1])*np.pi,['$-\\pi$','$-\\pi/2$',0,'$-\\pi/2$','$\\pi$'])"
   ]
  },
  {
   "cell_type": "code",
   "execution_count": null,
   "metadata": {},
   "outputs": [],
   "source": [
    "\n",
    "\n",
    "\n",
    "\n",
    "\n",
    "\n",
    "\n",
    "\n",
    "\n",
    "\n",
    "\n",
    "\n",
    "\n",
    "\n",
    "\n",
    "\n",
    "\n",
    "\n",
    "\n",
    "\n",
    "\n",
    "\n"
   ]
  }
 ],
 "metadata": {
  "kernelspec": {
   "display_name": "Python 3",
   "language": "python",
   "name": "python3"
  },
  "language_info": {
   "codemirror_mode": {
    "name": "ipython",
    "version": 3
   },
   "file_extension": ".py",
   "mimetype": "text/x-python",
   "name": "python",
   "nbconvert_exporter": "python",
   "pygments_lexer": "ipython3",
   "version": "3.7.2"
  }
 },
 "nbformat": 4,
 "nbformat_minor": 4
}
